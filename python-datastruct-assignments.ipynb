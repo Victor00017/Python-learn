{
 "cells": [
  {
   "cell_type": "markdown",
   "metadata": {},
   "source": [
    "# Python Data Structures Assignment."
   ]
  },
  {
   "cell_type": "markdown",
   "metadata": {},
   "source": [
    "'''\n",
    "Assignment 1: List Manipulation\n",
    "Task: Write a program that:\n",
    "\n",
    "Creates a list of integers from 1 to 10.\n",
    "\n",
    "Prints the list.\n",
    "\n",
    "Appends the number 11 to the list.\n",
    "\n",
    "Removes the first element of the list.\n",
    "\n",
    "Prints the modified list.\n",
    "\n",
    "Sorts the list in descending order and prints it\n",
    "'''"
   ]
  },
  {
   "cell_type": "code",
   "execution_count": 1,
   "metadata": {},
   "outputs": [
    {
     "name": "stdout",
     "output_type": "stream",
     "text": [
      "[ 1  2  3  4  5  6  7  8  9 10]\n",
      "[ 2  3  4  5  6  7  8  9 10 11]\n",
      "[11 10  9  8  7  6  5  4  3  2]\n"
     ]
    }
   ],
   "source": [
    "import numpy as np\n",
    "firstlist=np.arange(1,11)\n",
    "print(firstlist)\n",
    "firstlist=np.append(firstlist,11)\n",
    "firstlist=np.delete(firstlist,0)\n",
    "print(firstlist)\n",
    "firstlist=firstlist[::-1]\n",
    "print(firstlist)\n"
   ]
  },
  {
   "cell_type": "code",
   "execution_count": 2,
   "metadata": {},
   "outputs": [
    {
     "name": "stdout",
     "output_type": "stream",
     "text": [
      "[1, 2, 3, 4, 5, 6, 7, 8, 9, 10]\n",
      "[1, 2, 3, 4, 5, 6, 7, 8, 9, 10, 11]\n",
      "[2, 3, 4, 5, 6, 7, 8, 9, 10, 11]\n",
      "[11, 10, 9, 8, 7, 6, 5, 4, 3, 2]\n"
     ]
    }
   ],
   "source": [
    "#OR\n",
    "firstlist1=[i for i in range(1,11) ]\n",
    "print(firstlist1)\n",
    "firstlist1.append(11)\n",
    "print(firstlist1)\n",
    "firstlist1.pop(0)\n",
    "print(firstlist1)\n",
    "firstlist1=firstlist1[::-1]\n",
    "print(firstlist1)\n"
   ]
  },
  {
   "cell_type": "markdown",
   "metadata": {},
   "source": [
    "'''\n",
    "Task: Write a program that:\n",
    "\n",
    "Creates a dictionary with keys as the first five positive integers and values as their squares.\n",
    "\n",
    "Prints the dictionary.\n",
    "\n",
    "Updates the value of the key 3 to its cube.\n",
    "\n",
    "Adds a new key-value pair (6, 36).\n",
    "\n",
    "Removes the key-value pair for key 1.\n",
    "\n",
    "Prints the updated dictionary\n",
    "'''"
   ]
  },
  {
   "cell_type": "code",
   "execution_count": 3,
   "metadata": {},
   "outputs": [
    {
     "name": "stdout",
     "output_type": "stream",
     "text": [
      "{'2': 4, '3': 27, '4': 16, '5': 25, '6': 36}\n"
     ]
    }
   ],
   "source": [
    "#Using numpy lib \n",
    "import numpy as np\n",
    "keys=['1','2','3','4','5']\n",
    "values=[1,4,9,16,25]\n",
    "firstdict =dict(zip(keys, values))\n",
    "firstdict['3']=27\n",
    "firstdict['6']=36\n",
    "\n",
    "del firstdict['1']\n",
    "print(firstdict)\n",
    "\n"
   ]
  },
  {
   "cell_type": "code",
   "execution_count": 4,
   "metadata": {},
   "outputs": [
    {
     "name": "stdout",
     "output_type": "stream",
     "text": [
      "{1: 1, 2: 4, 3: 9, 4: 16, 5: 25}\n",
      "{'2': 4, '3': 27, '4': 16, '5': 25, '6': 36}\n"
     ]
    }
   ],
   "source": [
    "#using dictionary comprehension here\n",
    "firstdict1={x:x**2 for x in range(1,6)  }\n",
    "print(firstdict1)\n",
    "#using dictionary comprehension here won't work. so far.\n",
    "# firstdict1 = dict([('1',1),('2',4),('3',9),('4',16),('5',25)])\n",
    "# firstdict1\n",
    "firstdict['3']=27\n",
    "firstdict['6']=36\n",
    "\n",
    "# del firstdict['1']\n",
    "print(firstdict)"
   ]
  },
  {
   "cell_type": "markdown",
   "metadata": {},
   "source": [
    "'''\n",
    "Assignment 3: Set Operations\n",
    "Task: Write a program that:\n",
    "\n",
    "Creates two sets of integers: Set A with {1, 2, 3, 4, 5} and Set B with {4, 5, 6, 7, 8}.\n",
    "\n",
    "Prints the union of Set A and Set B.\n",
    "\n",
    "Prints the intersection of Set A and Set B.\n",
    "\n",
    "Prints the difference of Set A and Set B (elements in A but not in B).\n",
    "\n",
    "Prints the symmetric difference (elements in A or B but not in both).\n",
    "'''"
   ]
  },
  {
   "cell_type": "code",
   "execution_count": 5,
   "metadata": {},
   "outputs": [
    {
     "name": "stdout",
     "output_type": "stream",
     "text": [
      "{1, 2, 3, 4, 5}\n",
      "{1, 2, 3, 4, 5, 6, 7, 8}\n",
      "{4, 5}\n",
      "{1, 2, 3}\n",
      "{1, 2, 3, 6, 7, 8}\n"
     ]
    }
   ],
   "source": [
    "SetA={x for x in range(1,6)}\n",
    "print(SetA)\n",
    "setB={x for x in range(4,9)}\n",
    "print(SetA.union(setB))\n",
    "print(SetA.intersection(setB))\n",
    "print(SetA.difference(setB))\n",
    "print(SetA.symmetric_difference(setB))\n"
   ]
  },
  {
   "cell_type": "markdown",
   "metadata": {},
   "source": [
    "'''\n",
    "Assignment 4: Tuple Usage\n",
    "Task: Write a program that:\n",
    "\n",
    "Creates a tuple with the first five positive integers.\n",
    "\n",
    "Prints the tuple.\n",
    "\n",
    "Accesses and prints the third element of the tuple.\n",
    "\n",
    "Attempts to change the second element of the tuple (expecting an error since tuples are immutable).\n",
    "\n",
    "Converts the tuple to a list, modifies the second element, and converts it back to a tuple.\n",
    "'''"
   ]
  },
  {
   "cell_type": "code",
   "execution_count": 6,
   "metadata": {},
   "outputs": [
    {
     "name": "stdout",
     "output_type": "stream",
     "text": [
      "(1, 2, 3, 4, 5)\n",
      "(1, 2, 10, 4, 5)\n"
     ]
    }
   ],
   "source": [
    "tup=tuple(x for x in range(1,6))\n",
    "print(tup)\n",
    "tup[2]\n",
    "# tup[1]=3\n",
    "lstup=list(tup)\n",
    "lstup[2]=10\n",
    "tup=tuple(lstup)\n",
    "print(tup)"
   ]
  },
  {
   "cell_type": "markdown",
   "metadata": {},
   "source": [
    "'''Assignment 5: Nested Data Structures\n",
    "Task: Write a program that:\n",
    "\n",
    "Creates a list of dictionaries. Each dictionary represents a student with 'name', 'age', and 'grade' keys.\n",
    "\n",
    "Adds three student dictionaries to the list.\n",
    "\n",
    "Prints the list.\n",
    "\n",
    "Iterates over the list and prints the name of each student who has a grade higher than 80.'''"
   ]
  },
  {
   "cell_type": "code",
   "execution_count": 7,
   "metadata": {},
   "outputs": [
    {
     "name": "stdout",
     "output_type": "stream",
     "text": [
      "[{'name': 'Job', 'age1': 25, 'grade': 80}, {'name': 'Kwame', 'age2': 28, 'grade': 88}, {'name': 'Kwesi', 'age3': 20, 'grade': 89}, {'name': 'Killer', 'age4': 30, 'grade': 83}, {'name': 'May', 'age5': 23, 'grade': 46}, {'name': 'Mike', 'age6': 23, 'grade': 65}]\n",
      "Kwame\n",
      "Kwesi\n",
      "Killer\n"
     ]
    }
   ],
   "source": [
    "Namedictls=[{'name':'Job', 'age1':25, 'grade':80},  {'name':'Kwame', 'age2':28,'grade':88}, {'name':'Kwesi', 'age3':20,'grade':89}]\n",
    "\n",
    "Namedictls.append({'name':'Killer','age4':30,'grade':83}),\n",
    "Namedictls.append({'name':'May','age5':23,'grade':46})\n",
    "Namedictls.append({'name':'Mike', 'age6':23,'grade':65})\n",
    "print(Namedictls)\n",
    "for i in Namedictls:\n",
    "    if i['grade']>80:\n",
    "        print(i['name'])"
   ]
  }
 ],
 "metadata": {
  "kernelspec": {
   "display_name": "Python 3",
   "language": "python",
   "name": "python3"
  },
  "language_info": {
   "codemirror_mode": {
    "name": "ipython",
    "version": 3
   },
   "file_extension": ".py",
   "mimetype": "text/x-python",
   "name": "python",
   "nbconvert_exporter": "python",
   "pygments_lexer": "ipython3",
   "version": "3.13.0"
  }
 },
 "nbformat": 4,
 "nbformat_minor": 2
}
